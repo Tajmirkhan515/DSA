{
 "cells": [
  {
   "cell_type": "code",
   "execution_count": 179,
   "id": "606e18e8",
   "metadata": {},
   "outputs": [],
   "source": [
    "class Node:\n",
    "    \"\"\"Node class for linked list nodes.\"\"\"\n",
    "    def __init__(self, data):\n",
    "        self.data = data    # Store the node value\n",
    "        self.next = None    # Initialize next as None\n",
    "\n",
    "class LinkedList:\n",
    "    def __init__(self):\n",
    "        self.head = None    # Initialize head to None for an empty list\n",
    "        self.n = 0          # Counter to keep track of the length of the list\n",
    "\n",
    "    def __len__(self):\n",
    "        return self.n\n",
    "\n",
    "    def insert_head(self, value):\n",
    "        \"\"\"Insert a node at the head of the linked list.\"\"\"\n",
    "        new_node = Node(value)       # Create a new node\n",
    "        new_node.next = self.head    # New node points to the current head\n",
    "        self.head = new_node         # Update head to the new node\n",
    "        self.n += 1                  # Increment size\n",
    "\n",
    "    def traverse(self):\n",
    "        \"\"\"Traverse and print all elements of the linked list.\"\"\"\n",
    "        curr = self.head\n",
    "        while curr is not None:\n",
    "            print(curr.data, end=\" -> \")\n",
    "            curr = curr.next\n",
    "        print(\"None\")\n",
    "\n",
    "    def __str__(self):\n",
    "        \"\"\"Return a string representation of the linked list.\"\"\"\n",
    "        curr = self.head\n",
    "        result = \"\"\n",
    "        while curr is not None:\n",
    "            result += str(curr.data) + \" -> \"\n",
    "            curr = curr.next\n",
    "        result += \"None\"\n",
    "        return result\n",
    "\n",
    "    def insert_last(self, value):\n",
    "        \"\"\"Insert a node at the end of the linked list.\"\"\"\n",
    "        new_node = Node(value)\n",
    "        if self.head is None:        # If the list is empty\n",
    "            self.head = new_node\n",
    "            self.n += 1\n",
    "            return\n",
    "\n",
    "        # Traverse to the last node\n",
    "        curr = self.head\n",
    "        while curr.next is not None:\n",
    "            curr = curr.next\n",
    "\n",
    "        curr.next = new_node         # Link the new node at the end\n",
    "        self.n += 1                  # Increment size\n",
    "        \n",
    "            \n",
    "    def insert_after(self, target_value, value):\n",
    "        \n",
    "        new_node=Node(value)\n",
    "        \n",
    "        curr=self.head\n",
    "        \n",
    "        while curr!=None:\n",
    "            if curr.data==target_value:\n",
    "                break\n",
    "            curr=curr.next\n",
    "            \n",
    "        if curr!=None:\n",
    "            new_node.next=curr.next\n",
    "            curr.next=new_node\n",
    "            self.n += 1 \n",
    "        else:\n",
    "            return \"item not found\"\n",
    "        \n",
    "    def clear(self):\n",
    "        self.head=None\n",
    "        self.n=0\n",
    "        \n",
    "\n",
    "    def delete_head(self):\n",
    "        if self.head==None:\n",
    "            return \"empty\"\n",
    "        self.head=self.head.next\n",
    "        self.n-=1\n",
    "    \n",
    "    def delete_tail(self):\n",
    "        \n",
    "        curr=self.head\n",
    "        \n",
    "        #Let's check the linkedlist is empty\n",
    "        if curr==None:\n",
    "            return \"empty\"\n",
    "        \n",
    "        #let's, check your linkedlist have at least one element\n",
    "        if curr.next==None:\n",
    "            self.delete_head()\n",
    "            return\n",
    "        \n",
    "        while curr.next.next!=None:\n",
    "            curr=curr.next\n",
    "        \n",
    "        curr.next=None\n",
    "        self.n-=1\n",
    "        \n",
    "    def remove(self,value):\n",
    "        \n",
    "        if self.head==None:\n",
    "            return \"empty\"\n",
    "        \n",
    "        if self.head.data==value:\n",
    "            return self.delete_head()\n",
    "        \n",
    "        curr=self.head\n",
    "        \n",
    "        while curr.next!=None:\n",
    "            \n",
    "            if curr.next.data==value:\n",
    "                break\n",
    "            curr=curr.next\n",
    "          \n",
    "        if curr.next==None:\n",
    "            return 'Not found'\n",
    "        else:\n",
    "            curr.next=curr.next.next\n",
    "            self.n-=1\n",
    "        \n",
    "        \n",
    "    def search(self, item):\n",
    "        curr=self.head\n",
    "        index=0\n",
    "        \n",
    "        while curr!=None:\n",
    "            if curr.data==item:\n",
    "                return index\n",
    "            index+=1\n",
    "            curr=curr.next\n",
    "        \n",
    "        return \"not found\"\n",
    "            \n",
    "    def searchIndex(self,index):\n",
    "        curr=self.head\n",
    "        pos=0\n",
    "        while curr!=None:\n",
    "            if pos == index:\n",
    "                return curr.data\n",
    "            pos+=1\n",
    "            curr=curr.next\n",
    "        \n",
    "        return \"Not found\""
   ]
  },
  {
   "cell_type": "code",
   "execution_count": 180,
   "id": "5b3e5560",
   "metadata": {},
   "outputs": [
    {
     "name": "stdout",
     "output_type": "stream",
     "text": [
      "Linked List after inserting elements:\n",
      "20 -> 10 -> 35 -> None\n",
      "String representation: 20 -> 10 -> 35 -> None\n",
      "Length of Linked List: 3\n"
     ]
    }
   ],
   "source": [
    "\n",
    "\n",
    "\n",
    "# Example usage\n",
    "L = LinkedList()\n",
    "L.insert_head(10)\n",
    "L.insert_head(20)\n",
    "L.insert_last(35)\n",
    "\n",
    "print(\"Linked List after inserting elements:\")\n",
    "L.traverse()        # Output: 20 -> 10 -> 30 -> None\n",
    "\n",
    "print(\"String representation:\", L)  # Output: 20 -> 10 -> 30 -> None\n",
    "print(\"Length of Linked List:\", len(L))  # Output: 3\n"
   ]
  },
  {
   "cell_type": "code",
   "execution_count": 181,
   "id": "8d68f2a9",
   "metadata": {},
   "outputs": [],
   "source": [
    "L.insert_after(10,100)"
   ]
  },
  {
   "cell_type": "code",
   "execution_count": 182,
   "id": "44b388af",
   "metadata": {},
   "outputs": [
    {
     "name": "stdout",
     "output_type": "stream",
     "text": [
      "String representation: 20 -> 10 -> 100 -> 35 -> None\n",
      "Length of Linked List: 4\n"
     ]
    }
   ],
   "source": [
    "print(\"String representation:\", L)  # Output: 20 -> 10 -> 30 -> None\n",
    "print(\"Length of Linked List:\", len(L))  # Output: 3"
   ]
  },
  {
   "cell_type": "code",
   "execution_count": 146,
   "id": "4fa14efd",
   "metadata": {},
   "outputs": [],
   "source": [
    "L.clear()\n"
   ]
  },
  {
   "cell_type": "code",
   "execution_count": 15,
   "id": "f91a16c1",
   "metadata": {},
   "outputs": [
    {
     "name": "stdout",
     "output_type": "stream",
     "text": [
      "String representation: 20 -> 10 -> 100 -> 30 -> None\n",
      "Length of Linked List: 4\n"
     ]
    }
   ],
   "source": [
    "print(\"String representation:\", L)  # Output: 20 -> 10 -> 30 -> None\n",
    "print(\"Length of Linked List:\", len(L))  # Output: 3"
   ]
  },
  {
   "cell_type": "code",
   "execution_count": 36,
   "id": "9bd0e19c",
   "metadata": {},
   "outputs": [],
   "source": [
    "L.delete_head()"
   ]
  },
  {
   "cell_type": "code",
   "execution_count": 37,
   "id": "9362cb1c",
   "metadata": {},
   "outputs": [
    {
     "name": "stdout",
     "output_type": "stream",
     "text": [
      "String representation: None\n",
      "Length of Linked List: 0\n"
     ]
    }
   ],
   "source": [
    "print(\"String representation:\", L)  # Output: 20 -> 10 -> 30 -> None\n",
    "print(\"Length of Linked List:\", len(L))  # Output: 3"
   ]
  },
  {
   "cell_type": "code",
   "execution_count": 114,
   "id": "9065df7b",
   "metadata": {},
   "outputs": [],
   "source": [
    "L.delete_tail()"
   ]
  },
  {
   "cell_type": "code",
   "execution_count": 162,
   "id": "a974958c",
   "metadata": {},
   "outputs": [
    {
     "name": "stdout",
     "output_type": "stream",
     "text": [
      "String representation: 20 -> 10 -> 100 -> 35 -> None\n",
      "Length of Linked List: 4\n"
     ]
    }
   ],
   "source": [
    "print(\"String representation:\", L)  # Output: 20 -> 10 -> 30 -> None\n",
    "print(\"Length of Linked List:\", len(L))  # Output: 3"
   ]
  },
  {
   "cell_type": "code",
   "execution_count": 147,
   "id": "b15ab47e",
   "metadata": {},
   "outputs": [
    {
     "name": "stdout",
     "output_type": "stream",
     "text": [
      "20 -> 100 -> 35 -> None\n"
     ]
    }
   ],
   "source": [
    "L.remove(10)\n",
    "print(L)"
   ]
  },
  {
   "cell_type": "code",
   "execution_count": 183,
   "id": "55559e6a",
   "metadata": {},
   "outputs": [
    {
     "name": "stdout",
     "output_type": "stream",
     "text": [
      "3\n"
     ]
    }
   ],
   "source": [
    "print(L.search(35))\n"
   ]
  },
  {
   "cell_type": "code",
   "execution_count": 184,
   "id": "728ddc27",
   "metadata": {},
   "outputs": [
    {
     "name": "stdout",
     "output_type": "stream",
     "text": [
      "35\n"
     ]
    }
   ],
   "source": [
    "print(L.searchIndex(3))"
   ]
  },
  {
   "cell_type": "code",
   "execution_count": null,
   "id": "554c48fa",
   "metadata": {},
   "outputs": [],
   "source": []
  }
 ],
 "metadata": {
  "kernelspec": {
   "display_name": "Python 3 (ipykernel)",
   "language": "python",
   "name": "python3"
  },
  "language_info": {
   "codemirror_mode": {
    "name": "ipython",
    "version": 3
   },
   "file_extension": ".py",
   "mimetype": "text/x-python",
   "name": "python",
   "nbconvert_exporter": "python",
   "pygments_lexer": "ipython3",
   "version": "3.9.12"
  }
 },
 "nbformat": 4,
 "nbformat_minor": 5
}
